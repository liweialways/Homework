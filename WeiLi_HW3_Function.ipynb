{
 "cells": [
  {
   "cell_type": "code",
   "execution_count": 1,
   "metadata": {},
   "outputs": [
    {
     "name": "stdout",
     "output_type": "stream",
     "text": [
      "0.3333333333333333\n",
      "1.0\n",
      "Error: k should be less than the number of observations.\n",
      "0.5\n",
      "0.0\n"
     ]
    }
   ],
   "source": [
    "# -*- coding: utf-8 -*-\n",
    "\"\"\"\n",
    "WeiLi_HW3_Funtion.ipynb\n",
    "name of the function: naivePrediction\n",
    "\n",
    "To define a function so that it can calculate the mean absolute error of the \n",
    "estimation method for the next day's weather based on the previous k days' weather.\n",
    "\n",
    "input: \n",
    "  1. a list containing the weather information(0 for no rains; 1 for rains), \n",
    "  2. k for estimation days.\n",
    "output: \n",
    "  1. MAE of the calculation.\n",
    "  2. if k exceeds the total days, this estimation cannot finished, then return \n",
    "      \"Error: k should be less than the number of observations.\"\n",
    "\"\"\"\n",
    "\n",
    "def naivePrediction(lyst, k):\n",
    "    if k < len(lyst):\n",
    "      sumErrors = 0\n",
    "      for i in range(0, len(lyst)-k):\n",
    "        tot = 0\n",
    "        for j in range(0, k):\n",
    "          tot += lyst[i+j] \n",
    "          if tot < k/2:\n",
    "            est = 0\n",
    "          else:\n",
    "            est = 1\n",
    "        sumErrors += abs((lyst[i+k]-est))\n",
    "      mae = sumErrors/(len(lyst)-k)\n",
    "      return mae\n",
    "    else:\n",
    "      return 'Error: k should be less than the number of observations.'\n",
    "def main():\n",
    "    print(naivePrediction([1,0,1,0,1], 2))\n",
    "    print(naivePrediction([1,0,1,0,1], 3))\n",
    "    print(naivePrediction([1,0,1,0,1], 5))\n",
    "    print(naivePrediction([1,0,1,0,1,1,1], 3))\n",
    "    print(naivePrediction([1,0,1,0,1,1,1], 4))\n",
    "main()"
   ]
  },
  {
   "cell_type": "code",
   "execution_count": null,
   "metadata": {},
   "outputs": [],
   "source": []
  }
 ],
 "metadata": {
  "kernelspec": {
   "display_name": "Python 3",
   "language": "python",
   "name": "python3"
  },
  "language_info": {
   "codemirror_mode": {
    "name": "ipython",
    "version": 3
   },
   "file_extension": ".py",
   "mimetype": "text/x-python",
   "name": "python",
   "nbconvert_exporter": "python",
   "pygments_lexer": "ipython3",
   "version": "3.6.5"
  }
 },
 "nbformat": 4,
 "nbformat_minor": 2
}
